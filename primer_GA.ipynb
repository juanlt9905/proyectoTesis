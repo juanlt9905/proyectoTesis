{
 "cells": [
  {
   "cell_type": "code",
   "execution_count": 1,
   "id": "381dc5d4",
   "metadata": {},
   "outputs": [],
   "source": [
    "import pandas as pd\n",
    "import numpy as np\n",
    "import matplotlib.pyplot as plt\n",
    "\n",
    "from sklearn.model_selection import train_test_split\n",
    "from sklearn.linear_model import LogisticRegression\n",
    "from sklearn import metrics\n",
    "from collections import Counter  \n",
    "from imblearn.over_sampling import RandomOverSampler\n",
    "from imblearn.over_sampling import SMOTE\n",
    "import incertidumbre\n"
   ]
  },
  {
   "cell_type": "code",
   "execution_count": 2,
   "id": "6e18578e",
   "metadata": {},
   "outputs": [],
   "source": [
    "#Extraccion y limpieza de datos.\n",
    "\n",
    "datos_diabetes = pd.read_csv('/home/juan/machineLearning2025/datasets/diabetes_012_health_indicators_BRFSS2015.csv')\n",
    "\n",
    "datos_diabetes['diabetes_01'] = datos_diabetes['Diabetes_012']\n",
    "datos_diabetes['diabetes_01'] = datos_diabetes['diabetes_01'].replace(2,1)\n",
    "\n",
    "#Reparar nombres de columnas. Se usa el formato loweCamelCase para el nombre de las caracteristicas.\n",
    "\n",
    "new_col_names = []\n",
    "\n",
    "for name in datos_diabetes.columns:\n",
    "    # Luego, pon todas las letras en minúsculas\n",
    "    name_lowered_first_letter = name[0].lower() + name[1:]\n",
    "    # Elimina los espacios al principio y al final\n",
    "    name_stripped = name_lowered_first_letter.strip()\n",
    "    # Por último, reemplaza los espacios entre palabras por guiones bajos\n",
    "    name_no_spaces = name_stripped.replace(' ', '_')\n",
    "    # Agrega el nuevo nombre a la lista de nuevos nombres de columna\n",
    "    new_col_names.append(name_no_spaces)\n",
    "\n",
    "datos_diabetes.columns = new_col_names\n",
    "\n",
    "datos_diabetes = datos_diabetes.rename(columns={'bMI':'bmi'})\n",
    "\n",
    "#Definicion de datos enteros.\n",
    "for col in datos_diabetes.columns:\n",
    "    #if datos_diabetes[col].dtype == 'float64':\n",
    "    datos_diabetes[col] = datos_diabetes[col].astype(int)"
   ]
  },
  {
   "cell_type": "code",
   "execution_count": 3,
   "id": "f5eb6f91",
   "metadata": {},
   "outputs": [],
   "source": [
    "X = datos_diabetes.drop([\"diabetes_01\", \"diabetes_012\"], axis=1)\n",
    "y = datos_diabetes[\"diabetes_01\"]\n",
    "\n",
    "X_train, X_test, y_train, y_test = train_test_split(\n",
    "    X, y, test_size=0.25, random_state=42\n",
    ")\n",
    "os_us3 = SMOTE(sampling_strategy=0.6, random_state=4321)\n",
    "X_train_res_smote2, y_train = os_us3.fit_resample(X_train, y_train)\n",
    "X_train =X_train_res_smote2.values\n",
    "X_test = X_test.values"
   ]
  },
  {
   "cell_type": "code",
   "execution_count": 4,
   "id": "1dce0c8a",
   "metadata": {},
   "outputs": [
    {
     "data": {
      "text/plain": [
       "array([0, 0, 1, 0, 0, 0, 1, 1, 1, 1, 0, 1, 0, 1, 0, 0, 0, 0, 1, 0, 1])"
      ]
     },
     "execution_count": 4,
     "metadata": {},
     "output_type": "execute_result"
    }
   ],
   "source": [
    "#usare codificacion binaria para los comosomas.\n",
    "\n",
    "num_features =21\n",
    "\n",
    "#Inicializacion binaria de un comosoma\n",
    "cromosoma = np.random.randint(2, size=num_features)\n",
    "\n",
    "cromosoma"
   ]
  },
  {
   "cell_type": "code",
   "execution_count": 5,
   "id": "a1ecf396",
   "metadata": {},
   "outputs": [],
   "source": [
    "\n",
    "import numpy as np\n",
    "from sklearn.linear_model import LogisticRegression\n",
    "from sklearn.metrics import accuracy_score\n",
    "\n",
    "def fitness_function(features):\n",
    "    if np.sum(features) == 0:\n",
    "        return 0.0\n",
    "\n",
    "    features_mask = features.astype(bool)\n",
    "    \n",
    "    X_train_subset = X_train[:, features_mask]\n",
    "    X_test_subset = X_test[:, features_mask]\n",
    "    \n",
    "    if X_train_subset.shape[1] == 0:\n",
    "        return 0.0\n",
    "\n",
    "    model = LogisticRegression()\n",
    "    model.fit(X_train_subset, y_train)\n",
    "    \n",
    "    y_pred = model.predict(X_test_subset)\n",
    "    f1 = accuracy_score(y_test, y_pred)\n",
    "    \n",
    "    print(f\"Probando con {np.sum(features)} características. F1-score obtenido: {f1}\")\n",
    "    return f1\n",
    "#Funciones para los Operadores Geneticos.\n",
    "\n",
    "#seleccion\n",
    "\n",
    "def selection(population, fitness_values):\n",
    "    # Roulette wheel selection\n",
    "    probabilities = fitness_values / np.sum(fitness_values)\n",
    "    selected_indices = np.random.choice(len(population), size=len(population), p=probabilities)\n",
    "    return population[selected_indices]\n",
    "\n",
    "def crossover(parents):\n",
    "    # Single-point crossover\n",
    "    crossover_point = np.random.randint(1, len(parents[0]))\n",
    "    offspring = np.empty_like(parents)\n",
    "    for i in range(len(parents)):\n",
    "        parent1, parent2 = parents[np.random.choice(len(parents), size=2, replace=False)]\n",
    "        offspring[i] = np.concatenate((parent1[:crossover_point], parent2[crossover_point:]))\n",
    "    return offspring\n",
    "\n",
    "def mutation(offspring, mutation_rate):\n",
    "    # Bit-wise mutation\n",
    "    for i in range(len(offspring)):\n",
    "        for j in range(len(offspring[i])):\n",
    "            if np.random.rand() < mutation_rate:\n",
    "                offspring[i][j] = 1 - offspring[i][j]\n",
    "    return offspring\n"
   ]
  },
  {
   "cell_type": "code",
   "execution_count": 6,
   "id": "381e8810",
   "metadata": {},
   "outputs": [
    {
     "name": "stderr",
     "output_type": "stream",
     "text": [
      "/home/juan/miniconda3/envs/py310/lib/python3.10/site-packages/sklearn/linear_model/_logistic.py:465: ConvergenceWarning: lbfgs failed to converge (status=1):\n",
      "STOP: TOTAL NO. OF ITERATIONS REACHED LIMIT.\n",
      "\n",
      "Increase the number of iterations (max_iter) or scale the data as shown in:\n",
      "    https://scikit-learn.org/stable/modules/preprocessing.html\n",
      "Please also refer to the documentation for alternative solver options:\n",
      "    https://scikit-learn.org/stable/modules/linear_model.html#logistic-regression\n",
      "  n_iter_i = _check_optimize_result(\n"
     ]
    },
    {
     "name": "stdout",
     "output_type": "stream",
     "text": [
      "Probando con 13 características. F1-score obtenido: 0.7851466414380321\n"
     ]
    },
    {
     "name": "stderr",
     "output_type": "stream",
     "text": [
      "/home/juan/miniconda3/envs/py310/lib/python3.10/site-packages/sklearn/linear_model/_logistic.py:465: ConvergenceWarning: lbfgs failed to converge (status=1):\n",
      "STOP: TOTAL NO. OF ITERATIONS REACHED LIMIT.\n",
      "\n",
      "Increase the number of iterations (max_iter) or scale the data as shown in:\n",
      "    https://scikit-learn.org/stable/modules/preprocessing.html\n",
      "Please also refer to the documentation for alternative solver options:\n",
      "    https://scikit-learn.org/stable/modules/linear_model.html#logistic-regression\n",
      "  n_iter_i = _check_optimize_result(\n"
     ]
    },
    {
     "name": "stdout",
     "output_type": "stream",
     "text": [
      "Probando con 13 características. F1-score obtenido: 0.790570797855566\n"
     ]
    },
    {
     "name": "stderr",
     "output_type": "stream",
     "text": [
      "/home/juan/miniconda3/envs/py310/lib/python3.10/site-packages/sklearn/linear_model/_logistic.py:465: ConvergenceWarning: lbfgs failed to converge (status=1):\n",
      "STOP: TOTAL NO. OF ITERATIONS REACHED LIMIT.\n",
      "\n",
      "Increase the number of iterations (max_iter) or scale the data as shown in:\n",
      "    https://scikit-learn.org/stable/modules/preprocessing.html\n",
      "Please also refer to the documentation for alternative solver options:\n",
      "    https://scikit-learn.org/stable/modules/linear_model.html#logistic-regression\n",
      "  n_iter_i = _check_optimize_result(\n"
     ]
    },
    {
     "name": "stdout",
     "output_type": "stream",
     "text": [
      "Probando con 10 características. F1-score obtenido: 0.7885840428886787\n",
      "Generación 0: Nuevo mejor fitness = 0.790570797855566\n"
     ]
    },
    {
     "name": "stderr",
     "output_type": "stream",
     "text": [
      "/home/juan/miniconda3/envs/py310/lib/python3.10/site-packages/sklearn/linear_model/_logistic.py:465: ConvergenceWarning: lbfgs failed to converge (status=1):\n",
      "STOP: TOTAL NO. OF ITERATIONS REACHED LIMIT.\n",
      "\n",
      "Increase the number of iterations (max_iter) or scale the data as shown in:\n",
      "    https://scikit-learn.org/stable/modules/preprocessing.html\n",
      "Please also refer to the documentation for alternative solver options:\n",
      "    https://scikit-learn.org/stable/modules/linear_model.html#logistic-regression\n",
      "  n_iter_i = _check_optimize_result(\n"
     ]
    },
    {
     "name": "stdout",
     "output_type": "stream",
     "text": [
      "Probando con 13 características. F1-score obtenido: 0.790570797855566\n"
     ]
    },
    {
     "name": "stderr",
     "output_type": "stream",
     "text": [
      "/home/juan/miniconda3/envs/py310/lib/python3.10/site-packages/sklearn/linear_model/_logistic.py:465: ConvergenceWarning: lbfgs failed to converge (status=1):\n",
      "STOP: TOTAL NO. OF ITERATIONS REACHED LIMIT.\n",
      "\n",
      "Increase the number of iterations (max_iter) or scale the data as shown in:\n",
      "    https://scikit-learn.org/stable/modules/preprocessing.html\n",
      "Please also refer to the documentation for alternative solver options:\n",
      "    https://scikit-learn.org/stable/modules/linear_model.html#logistic-regression\n",
      "  n_iter_i = _check_optimize_result(\n"
     ]
    },
    {
     "name": "stdout",
     "output_type": "stream",
     "text": [
      "Probando con 9 características. F1-score obtenido: 0.7880163986124251\n"
     ]
    },
    {
     "name": "stderr",
     "output_type": "stream",
     "text": [
      "/home/juan/miniconda3/envs/py310/lib/python3.10/site-packages/sklearn/linear_model/_logistic.py:465: ConvergenceWarning: lbfgs failed to converge (status=1):\n",
      "STOP: TOTAL NO. OF ITERATIONS REACHED LIMIT.\n",
      "\n",
      "Increase the number of iterations (max_iter) or scale the data as shown in:\n",
      "    https://scikit-learn.org/stable/modules/preprocessing.html\n",
      "Please also refer to the documentation for alternative solver options:\n",
      "    https://scikit-learn.org/stable/modules/linear_model.html#logistic-regression\n",
      "  n_iter_i = _check_optimize_result(\n"
     ]
    },
    {
     "name": "stdout",
     "output_type": "stream",
     "text": [
      "Probando con 14 características. F1-score obtenido: 0.7856039104383475\n"
     ]
    },
    {
     "name": "stderr",
     "output_type": "stream",
     "text": [
      "/home/juan/miniconda3/envs/py310/lib/python3.10/site-packages/sklearn/linear_model/_logistic.py:465: ConvergenceWarning: lbfgs failed to converge (status=1):\n",
      "STOP: TOTAL NO. OF ITERATIONS REACHED LIMIT.\n",
      "\n",
      "Increase the number of iterations (max_iter) or scale the data as shown in:\n",
      "    https://scikit-learn.org/stable/modules/preprocessing.html\n",
      "Please also refer to the documentation for alternative solver options:\n",
      "    https://scikit-learn.org/stable/modules/linear_model.html#logistic-regression\n",
      "  n_iter_i = _check_optimize_result(\n"
     ]
    },
    {
     "name": "stdout",
     "output_type": "stream",
     "text": [
      "Probando con 13 características. F1-score obtenido: 0.790570797855566\n"
     ]
    },
    {
     "name": "stderr",
     "output_type": "stream",
     "text": [
      "/home/juan/miniconda3/envs/py310/lib/python3.10/site-packages/sklearn/linear_model/_logistic.py:465: ConvergenceWarning: lbfgs failed to converge (status=1):\n",
      "STOP: TOTAL NO. OF ITERATIONS REACHED LIMIT.\n",
      "\n",
      "Increase the number of iterations (max_iter) or scale the data as shown in:\n",
      "    https://scikit-learn.org/stable/modules/preprocessing.html\n",
      "Please also refer to the documentation for alternative solver options:\n",
      "    https://scikit-learn.org/stable/modules/linear_model.html#logistic-regression\n",
      "  n_iter_i = _check_optimize_result(\n"
     ]
    },
    {
     "name": "stdout",
     "output_type": "stream",
     "text": [
      "Probando con 12 características. F1-score obtenido: 0.7885998107852412\n"
     ]
    },
    {
     "name": "stderr",
     "output_type": "stream",
     "text": [
      "/home/juan/miniconda3/envs/py310/lib/python3.10/site-packages/sklearn/linear_model/_logistic.py:465: ConvergenceWarning: lbfgs failed to converge (status=1):\n",
      "STOP: TOTAL NO. OF ITERATIONS REACHED LIMIT.\n",
      "\n",
      "Increase the number of iterations (max_iter) or scale the data as shown in:\n",
      "    https://scikit-learn.org/stable/modules/preprocessing.html\n",
      "Please also refer to the documentation for alternative solver options:\n",
      "    https://scikit-learn.org/stable/modules/linear_model.html#logistic-regression\n",
      "  n_iter_i = _check_optimize_result(\n"
     ]
    },
    {
     "name": "stdout",
     "output_type": "stream",
     "text": [
      "Probando con 12 características. F1-score obtenido: 0.7933301797540208\n",
      "Generación 2: Nuevo mejor fitness = 0.7933301797540208\n"
     ]
    },
    {
     "name": "stderr",
     "output_type": "stream",
     "text": [
      "/home/juan/miniconda3/envs/py310/lib/python3.10/site-packages/sklearn/linear_model/_logistic.py:465: ConvergenceWarning: lbfgs failed to converge (status=1):\n",
      "STOP: TOTAL NO. OF ITERATIONS REACHED LIMIT.\n",
      "\n",
      "Increase the number of iterations (max_iter) or scale the data as shown in:\n",
      "    https://scikit-learn.org/stable/modules/preprocessing.html\n",
      "Please also refer to the documentation for alternative solver options:\n",
      "    https://scikit-learn.org/stable/modules/linear_model.html#logistic-regression\n",
      "  n_iter_i = _check_optimize_result(\n"
     ]
    },
    {
     "name": "stdout",
     "output_type": "stream",
     "text": [
      "Probando con 12 características. F1-score obtenido: 0.7933301797540208\n"
     ]
    },
    {
     "name": "stderr",
     "output_type": "stream",
     "text": [
      "/home/juan/miniconda3/envs/py310/lib/python3.10/site-packages/sklearn/linear_model/_logistic.py:465: ConvergenceWarning: lbfgs failed to converge (status=1):\n",
      "STOP: TOTAL NO. OF ITERATIONS REACHED LIMIT.\n",
      "\n",
      "Increase the number of iterations (max_iter) or scale the data as shown in:\n",
      "    https://scikit-learn.org/stable/modules/preprocessing.html\n",
      "Please also refer to the documentation for alternative solver options:\n",
      "    https://scikit-learn.org/stable/modules/linear_model.html#logistic-regression\n",
      "  n_iter_i = _check_optimize_result(\n"
     ]
    },
    {
     "name": "stdout",
     "output_type": "stream",
     "text": [
      "Probando con 12 características. F1-score obtenido: 0.7933301797540208\n"
     ]
    },
    {
     "name": "stderr",
     "output_type": "stream",
     "text": [
      "/home/juan/miniconda3/envs/py310/lib/python3.10/site-packages/sklearn/linear_model/_logistic.py:465: ConvergenceWarning: lbfgs failed to converge (status=1):\n",
      "STOP: TOTAL NO. OF ITERATIONS REACHED LIMIT.\n",
      "\n",
      "Increase the number of iterations (max_iter) or scale the data as shown in:\n",
      "    https://scikit-learn.org/stable/modules/preprocessing.html\n",
      "Please also refer to the documentation for alternative solver options:\n",
      "    https://scikit-learn.org/stable/modules/linear_model.html#logistic-regression\n",
      "  n_iter_i = _check_optimize_result(\n"
     ]
    },
    {
     "name": "stdout",
     "output_type": "stream",
     "text": [
      "Probando con 12 características. F1-score obtenido: 0.7933301797540208\n"
     ]
    },
    {
     "name": "stderr",
     "output_type": "stream",
     "text": [
      "/home/juan/miniconda3/envs/py310/lib/python3.10/site-packages/sklearn/linear_model/_logistic.py:465: ConvergenceWarning: lbfgs failed to converge (status=1):\n",
      "STOP: TOTAL NO. OF ITERATIONS REACHED LIMIT.\n",
      "\n",
      "Increase the number of iterations (max_iter) or scale the data as shown in:\n",
      "    https://scikit-learn.org/stable/modules/preprocessing.html\n",
      "Please also refer to the documentation for alternative solver options:\n",
      "    https://scikit-learn.org/stable/modules/linear_model.html#logistic-regression\n",
      "  n_iter_i = _check_optimize_result(\n"
     ]
    },
    {
     "name": "stdout",
     "output_type": "stream",
     "text": [
      "Probando con 12 características. F1-score obtenido: 0.7933301797540208\n"
     ]
    },
    {
     "name": "stderr",
     "output_type": "stream",
     "text": [
      "/home/juan/miniconda3/envs/py310/lib/python3.10/site-packages/sklearn/linear_model/_logistic.py:465: ConvergenceWarning: lbfgs failed to converge (status=1):\n",
      "STOP: TOTAL NO. OF ITERATIONS REACHED LIMIT.\n",
      "\n",
      "Increase the number of iterations (max_iter) or scale the data as shown in:\n",
      "    https://scikit-learn.org/stable/modules/preprocessing.html\n",
      "Please also refer to the documentation for alternative solver options:\n",
      "    https://scikit-learn.org/stable/modules/linear_model.html#logistic-regression\n",
      "  n_iter_i = _check_optimize_result(\n"
     ]
    },
    {
     "name": "stdout",
     "output_type": "stream",
     "text": [
      "Probando con 12 características. F1-score obtenido: 0.7933301797540208\n",
      "Probando con 12 características. F1-score obtenido: 0.7933301797540208\n",
      "\n",
      "--- Mejor Resultado Encontrado (con Elitismo) ---\n",
      "Mejor Score de Aptitud: 0.7933301797540208\n",
      "Mejor Cromosoma (Características): [1 1 0 1 1 1 0 0 0 0 1 0 1 1 0 1 1 0 0 1 1]\n",
      "Número de características seleccionadas: 12\n"
     ]
    },
    {
     "name": "stderr",
     "output_type": "stream",
     "text": [
      "/home/juan/miniconda3/envs/py310/lib/python3.10/site-packages/sklearn/linear_model/_logistic.py:465: ConvergenceWarning: lbfgs failed to converge (status=1):\n",
      "STOP: TOTAL NO. OF ITERATIONS REACHED LIMIT.\n",
      "\n",
      "Increase the number of iterations (max_iter) or scale the data as shown in:\n",
      "    https://scikit-learn.org/stable/modules/preprocessing.html\n",
      "Please also refer to the documentation for alternative solver options:\n",
      "    https://scikit-learn.org/stable/modules/linear_model.html#logistic-regression\n",
      "  n_iter_i = _check_optimize_result(\n"
     ]
    }
   ],
   "source": [
    "# Genetic Algorithm Framework Example\n",
    "class GeneticAlgorithm:\n",
    "    def __init__(self, population_size, chromosome_length, fitness_function):\n",
    "        self.population_size = population_size\n",
    "        self.chromosome_length = chromosome_length\n",
    "        self.fitness_function = fitness_function\n",
    "        self.population = self.initialize_population()\n",
    "        self.best_chromosome_so_far = None\n",
    "        self.best_fitness_so_far = -1 # Inicia con un valor muy bajo\n",
    "    \n",
    "    def initialize_population(self):\n",
    "        # Initialize population randomly\n",
    "        return np.random.randint(2, size=(self.population_size, self.chromosome_length))\n",
    "    def evolve(self, num_generations, mutation_rate):\n",
    "        for generation in range(num_generations):\n",
    "            # Evaluate fitness of current population\n",
    "            fitness_values = [self.fitness_function(chromosome) for chromosome in self.population]\n",
    "\n",
    "            # Encontrar al mejor individuo de la generación actual\n",
    "            current_best_index = np.argmax(fitness_values)\n",
    "            current_best_fitness = fitness_values[current_best_index]\n",
    "\n",
    "            # Comparar con el mejor histórico y actualizar si se encuentra uno nuevo\n",
    "            if current_best_fitness > self.best_fitness_so_far:\n",
    "                self.best_fitness_so_far = current_best_fitness\n",
    "                self.best_chromosome_so_far = self.population[current_best_index]\n",
    "                print(f\"Generación {generation}: Nuevo mejor fitness = {self.best_fitness_so_far}\")\n",
    "            \n",
    "            # Select parents\n",
    "            selected_population = selection(self.population, fitness_values)\n",
    "            \n",
    "            # Apply crossover\n",
    "            offspring = crossover(selected_population)\n",
    "            \n",
    "            # Apply mutation\n",
    "            mutated_offspring = mutation(offspring, mutation_rate)\n",
    "            \n",
    "            # Update population\n",
    "            self.population = mutated_offspring\n",
    "            self.population[0] = self.best_chromosome_so_far\n",
    "# Usage Example\n",
    "population_size = 3\n",
    "chromosome_length = num_features\n",
    "num_generations = 5\n",
    "mutation_rate = 0.01\n",
    "genetic_algorithm = GeneticAlgorithm(population_size, chromosome_length, fitness_function)\n",
    "genetic_algorithm.evolve(num_generations, mutation_rate)\n",
    "\n",
    "print(\"\\n--- Mejor Resultado Encontrado (con Elitismo) ---\")\n",
    "print(f\"Mejor Score de Aptitud: {genetic_algorithm.best_fitness_so_far}\")\n",
    "print(f\"Mejor Cromosoma (Características): {genetic_algorithm.best_chromosome_so_far}\")\n",
    "print(f\"Número de características seleccionadas: {np.sum(genetic_algorithm.best_chromosome_so_far)}\")"
   ]
  },
  {
   "cell_type": "code",
   "execution_count": null,
   "id": "c9ebe3a4",
   "metadata": {},
   "outputs": [],
   "source": []
  }
 ],
 "metadata": {
  "kernelspec": {
   "display_name": "py310",
   "language": "python",
   "name": "python3"
  },
  "language_info": {
   "codemirror_mode": {
    "name": "ipython",
    "version": 3
   },
   "file_extension": ".py",
   "mimetype": "text/x-python",
   "name": "python",
   "nbconvert_exporter": "python",
   "pygments_lexer": "ipython3",
   "version": "3.10.16"
  }
 },
 "nbformat": 4,
 "nbformat_minor": 5
}
