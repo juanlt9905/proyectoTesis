{
 "cells": [
  {
   "cell_type": "code",
   "execution_count": 2,
   "id": "f6711e2c",
   "metadata": {},
   "outputs": [
    {
     "data": {
      "text/html": [
       "<div>\n",
       "<style scoped>\n",
       "    .dataframe tbody tr th:only-of-type {\n",
       "        vertical-align: middle;\n",
       "    }\n",
       "\n",
       "    .dataframe tbody tr th {\n",
       "        vertical-align: top;\n",
       "    }\n",
       "\n",
       "    .dataframe thead th {\n",
       "        text-align: right;\n",
       "    }\n",
       "</style>\n",
       "<table border=\"1\" class=\"dataframe\">\n",
       "  <thead>\n",
       "    <tr style=\"text-align: right;\">\n",
       "      <th></th>\n",
       "      <th>color</th>\n",
       "      <th>tamaño</th>\n",
       "      <th>clase</th>\n",
       "    </tr>\n",
       "  </thead>\n",
       "  <tbody>\n",
       "    <tr>\n",
       "      <th>0</th>\n",
       "      <td>rojo</td>\n",
       "      <td>grande</td>\n",
       "      <td>1</td>\n",
       "    </tr>\n",
       "    <tr>\n",
       "      <th>1</th>\n",
       "      <td>rojo</td>\n",
       "      <td>grande</td>\n",
       "      <td>1</td>\n",
       "    </tr>\n",
       "    <tr>\n",
       "      <th>2</th>\n",
       "      <td>rojo</td>\n",
       "      <td>pequeño</td>\n",
       "      <td>0</td>\n",
       "    </tr>\n",
       "    <tr>\n",
       "      <th>3</th>\n",
       "      <td>azul</td>\n",
       "      <td>grande</td>\n",
       "      <td>1</td>\n",
       "    </tr>\n",
       "    <tr>\n",
       "      <th>4</th>\n",
       "      <td>azul</td>\n",
       "      <td>grande</td>\n",
       "      <td>0</td>\n",
       "    </tr>\n",
       "    <tr>\n",
       "      <th>5</th>\n",
       "      <td>verde</td>\n",
       "      <td>pequeño</td>\n",
       "      <td>1</td>\n",
       "    </tr>\n",
       "    <tr>\n",
       "      <th>6</th>\n",
       "      <td>azul</td>\n",
       "      <td>grande</td>\n",
       "      <td>1</td>\n",
       "    </tr>\n",
       "    <tr>\n",
       "      <th>7</th>\n",
       "      <td>azul</td>\n",
       "      <td>grande</td>\n",
       "      <td>1</td>\n",
       "    </tr>\n",
       "    <tr>\n",
       "      <th>8</th>\n",
       "      <td>azul</td>\n",
       "      <td>grande</td>\n",
       "      <td>1</td>\n",
       "    </tr>\n",
       "  </tbody>\n",
       "</table>\n",
       "</div>"
      ],
      "text/plain": [
       "   color   tamaño  clase\n",
       "0   rojo   grande      1\n",
       "1   rojo   grande      1\n",
       "2   rojo  pequeño      0\n",
       "3   azul   grande      1\n",
       "4   azul   grande      0\n",
       "5  verde  pequeño      1\n",
       "6   azul   grande      1\n",
       "7   azul   grande      1\n",
       "8   azul   grande      1"
      ]
     },
     "execution_count": 2,
     "metadata": {},
     "output_type": "execute_result"
    }
   ],
   "source": [
    "import pandas as pd\n",
    "\n",
    "# Datos de ejemplo\n",
    "data = {\n",
    "    'color': ['rojo', 'rojo', 'rojo', 'azul', 'azul', 'verde', 'azul', 'azul', 'azul'],\n",
    "    'tamaño': ['grande', 'grande', 'pequeño', 'grande', 'grande', 'pequeño', 'grande', 'grande', 'grande'],\n",
    "    'clase': [1, 1, 0, 1, 0, 1, 1,1,1]\n",
    "}\n",
    "\n",
    "df = pd.DataFrame(data)\n",
    "\n",
    "df"
   ]
  },
  {
   "cell_type": "code",
   "execution_count": 3,
   "id": "9e99a15f",
   "metadata": {},
   "outputs": [
    {
     "name": "stdout",
     "output_type": "stream",
     "text": [
      "Nombre del grupo('azul', 'grande')\n",
      "clase\n",
      "1    4\n",
      "0    1\n",
      "Name: count, dtype: int64\n",
      "La clase maxima es 4\n",
      "Nombre del grupo('rojo', 'grande')\n",
      "clase\n",
      "1    2\n",
      "Name: count, dtype: int64\n",
      "La clase maxima es 2\n",
      "Nombre del grupo('rojo', 'pequeño')\n",
      "clase\n",
      "0    1\n",
      "Name: count, dtype: int64\n",
      "La clase maxima es 1\n",
      "Nombre del grupo('verde', 'pequeño')\n",
      "clase\n",
      "1    1\n",
      "Name: count, dtype: int64\n",
      "La clase maxima es 1\n"
     ]
    }
   ],
   "source": [
    "\n",
    "# Agrupar por 'color' y 'tamaño'\n",
    "columnas_subset = ['color', 'tamaño']\n",
    "grupos = df.groupby(columnas_subset)\n",
    "\n",
    "# Mostrar cada grupo\n",
    "for nombre_grupo, grupo in grupos:\n",
    "\n",
    "    print(f\"Nombre del grupo{nombre_grupo}\")\n",
    "    conteo_clases = grupo['clase'].value_counts()\n",
    "    print(conteo_clases)\n",
    "    max_clase = conteo_clases.max()\n",
    "    print(f\"La clase maxima es {max_clase}\")\n"
   ]
  },
  {
   "cell_type": "code",
   "execution_count": 4,
   "id": "c071d42b",
   "metadata": {},
   "outputs": [
    {
     "name": "stdout",
     "output_type": "stream",
     "text": [
      "('azul', 'grande')\n",
      "  color  tamaño  clase\n",
      "3  azul  grande      1\n",
      "4  azul  grande      0\n",
      "6  azul  grande      1\n",
      "7  azul  grande      1\n",
      "8  azul  grande      1\n",
      "('rojo', 'grande')\n",
      "  color  tamaño  clase\n",
      "0  rojo  grande      1\n",
      "1  rojo  grande      1\n",
      "('rojo', 'pequeño')\n",
      "  color   tamaño  clase\n",
      "2  rojo  pequeño      0\n",
      "('verde', 'pequeño')\n",
      "   color   tamaño  clase\n",
      "5  verde  pequeño      1\n"
     ]
    }
   ],
   "source": [
    "\n",
    "for x, y in grupos:\n",
    "    print(x)\n",
    "    print(y)"
   ]
  },
  {
   "cell_type": "code",
   "execution_count": 5,
   "id": "cfa050cc",
   "metadata": {},
   "outputs": [],
   "source": [
    "def tasa_inconsistencia(df, subconjunto_caracteristicas, clase):\n",
    "\n",
    "    m = len(df)\n",
    "    total_inconsistencias = 0\n",
    "    grupos = df.groupby(subconjunto_caracteristicas)\n",
    "    for nombre_grupo, df_grupo in grupos:\n",
    "        #numero total de instancias en cada grupo\n",
    "        n = len(df_grupo)\n",
    "\n",
    "        conteo_clases = df_grupo[clase].value_counts()\n",
    "        # numero de instancias del grupo pertenecientes a la clase mas frecuente.\n",
    "        if len(conteo_clases)>1:\n",
    "            max_clase = conteo_clases.max()\n",
    "            inconsistencias_grupo = n - max_clase\n",
    "            total_inconsistencias+= inconsistencias_grupo\n",
    "\n",
    "    return total_inconsistencias/m\n",
    "    "
   ]
  },
  {
   "cell_type": "code",
   "execution_count": 6,
   "id": "020c2381",
   "metadata": {},
   "outputs": [
    {
     "name": "stdout",
     "output_type": "stream",
     "text": [
      "0.25\n"
     ]
    }
   ],
   "source": [
    "data = {\n",
    "    'feature1': [1, 1, 1, 2, 2, 3, 3, 3],\n",
    "    'feature2': ['A', 'A', 'A', 'B', 'B', 'C', 'C', 'C'],\n",
    "    'etiqueta': [0, 0, 1, 1, 1, 0, 1, 1]\n",
    "}\n",
    "\n",
    "df = pd.DataFrame(data)\n",
    "\n",
    "print(tasa_inconsistencia(df, ['feature1', 'feature2'], 'etiqueta'))"
   ]
  }
 ],
 "metadata": {
  "kernelspec": {
   "display_name": "py310",
   "language": "python",
   "name": "python3"
  },
  "language_info": {
   "codemirror_mode": {
    "name": "ipython",
    "version": 3
   },
   "file_extension": ".py",
   "mimetype": "text/x-python",
   "name": "python",
   "nbconvert_exporter": "python",
   "pygments_lexer": "ipython3",
   "version": "3.10.16"
  }
 },
 "nbformat": 4,
 "nbformat_minor": 5
}
