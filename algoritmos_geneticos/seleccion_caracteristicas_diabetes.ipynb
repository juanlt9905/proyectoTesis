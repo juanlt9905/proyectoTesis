{
 "cells": [
  {
   "cell_type": "code",
   "execution_count": 3,
   "id": "94254516",
   "metadata": {},
   "outputs": [],
   "source": [
    "import pandas as pd\n",
    "import numpy as np\n",
    "import os\n",
    "\n",
    "import matplotlib.pyplot as plt\n",
    "from sklearn.model_selection import train_test_split\n",
    "from sklearn.linear_model import LogisticRegression\n",
    "from sklearn import metrics\n",
    "import seaborn as sns\n",
    "from sklearn.metrics import recall_score, precision_score, f1_score \n",
    "import pickle\n",
    "import funciones"
   ]
  },
  {
   "cell_type": "code",
   "execution_count": 4,
   "id": "2a606af6",
   "metadata": {},
   "outputs": [
    {
     "data": {
      "text/plain": [
       "Index(['diabetes_012', 'highBP', 'highChol', 'cholCheck', 'bmi', 'smoker',\n",
       "       'stroke', 'heartDiseaseorAttack', 'physActivity', 'fruits', 'veggies',\n",
       "       'hvyAlcoholConsump', 'anyHealthcare', 'noDocbcCost', 'genHlth',\n",
       "       'mentHlth', 'physHlth', 'diffWalk', 'sex', 'age', 'education', 'income',\n",
       "       'diabetes_01'],\n",
       "      dtype='object')"
      ]
     },
     "execution_count": 4,
     "metadata": {},
     "output_type": "execute_result"
    }
   ],
   "source": [
    "datos_diabetes = pd.read_csv('/home/juan/proyectoTesis/datasets/diabetes_012_health_indicators_BRFSS2015.csv')\n",
    "#Crear la columna diabetes_01 que unifique prediabetes con diabetes\n",
    "datos_diabetes['diabetes_01'] = datos_diabetes['Diabetes_012']\n",
    "datos_diabetes['diabetes_01'] = datos_diabetes['diabetes_01'].replace(2,1)\n",
    "\n",
    "#Reparar nombres de columnas. Se usa el formato loweCamelCase para el nombre de las caracteristicas.\n",
    "\n",
    "new_col_names = []\n",
    "\n",
    "for name in datos_diabetes.columns:\n",
    "    # Luego, pon todas las letras en minúsculas\n",
    "    name_lowered_first_letter = name[0].lower() + name[1:]\n",
    "    # Elimina los espacios al principio y al final\n",
    "    name_stripped = name_lowered_first_letter.strip()\n",
    "    # Por último, reemplaza los espacios entre palabras por guiones bajos\n",
    "    name_no_spaces = name_stripped.replace(' ', '_')\n",
    "    # Agrega el nuevo nombre a la lista de nuevos nombres de columna\n",
    "    new_col_names.append(name_no_spaces)\n",
    "\n",
    "datos_diabetes.columns = new_col_names\n",
    "\n",
    "datos_diabetes = datos_diabetes.rename(columns={'bMI':'bmi'})\n",
    "\n",
    "datos_diabetes.columns"
   ]
  },
  {
   "cell_type": "code",
   "execution_count": 9,
   "id": "5d919fb0",
   "metadata": {},
   "outputs": [
    {
     "data": {
      "text/plain": [
       "0.0"
      ]
     },
     "execution_count": 9,
     "metadata": {},
     "output_type": "execute_result"
    }
   ],
   "source": [
    "funciones.tasa_inconsistencia(datos_diabetes, datos_diabetes.columns.to_list(), \"diabetes_01\")"
   ]
  },
  {
   "cell_type": "code",
   "execution_count": 50,
   "id": "5e2403a2",
   "metadata": {},
   "outputs": [
    {
     "name": "stdout",
     "output_type": "stream",
     "text": [
      "0.15758830022075054\n"
     ]
    }
   ],
   "source": [
    "subconjunto2= [\"veggies\"]\n",
    "\n",
    "print(funciones.tasa_inconsistencia(datos_diabetes, subconjunto2, \"diabetes_01\"))\n",
    "\n"
   ]
  },
  {
   "cell_type": "code",
   "execution_count": 54,
   "id": "d58eaaa0",
   "metadata": {},
   "outputs": [
    {
     "data": {
      "text/plain": [
       "0.4"
      ]
     },
     "execution_count": 54,
     "metadata": {},
     "output_type": "execute_result"
    }
   ],
   "source": [
    "df_consistente = pd.DataFrame({\n",
    "    'ciudad': ['A', 'A', 'B', 'B', 'C'],\n",
    "    'producto': ['X', 'Y', 'X', 'Y', 'X'],\n",
    "    'categoria': [0, 0, 1, 1, 0]\n",
    "})\n",
    "\n",
    "subconjunto_prueba = ['producto']\n",
    "clase_prueba = 'categoria'\n",
    "\n",
    "funciones.tasa_inconsistencia(df_consistente, subconjunto_prueba, clase_prueba)"
   ]
  },
  {
   "cell_type": "code",
   "execution_count": null,
   "id": "4c9c993c",
   "metadata": {},
   "outputs": [],
   "source": []
  }
 ],
 "metadata": {
  "kernelspec": {
   "display_name": "py310",
   "language": "python",
   "name": "python3"
  },
  "language_info": {
   "codemirror_mode": {
    "name": "ipython",
    "version": 3
   },
   "file_extension": ".py",
   "mimetype": "text/x-python",
   "name": "python",
   "nbconvert_exporter": "python",
   "pygments_lexer": "ipython3",
   "version": "3.10.16"
  }
 },
 "nbformat": 4,
 "nbformat_minor": 5
}
