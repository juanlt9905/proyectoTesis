{
 "cells": [
  {
   "cell_type": "code",
   "execution_count": 4,
   "id": "c362a5a8",
   "metadata": {},
   "outputs": [],
   "source": [
    "import numpy as np\n",
    "import pandas as pd\n",
    "import statsmodels.api as sm\n",
    "import matplotlib.pyplot as plt\n"
   ]
  },
  {
   "cell_type": "code",
   "execution_count": 6,
   "id": "4961b4ff",
   "metadata": {},
   "outputs": [],
   "source": [
    "# Simular algunos datos\n",
    "np.random.seed(42)\n",
    "n = 100\n",
    "X1 = np.random.randn(n)\n",
    "X2 = np.random.randn(n)\n",
    "X = np.column_stack((X1, X2))\n",
    "beta = np.array([0.5, -0.25])\n",
    "linpred = np.dot(X, beta)\n",
    "prob = 1 / (1 + np.exp(-linpred))  # Probabilidades de la clase 1\n",
    "y = np.random.binomial(1, prob)    # Generar una variable binaria"
   ]
  },
  {
   "cell_type": "code",
   "execution_count": 7,
   "id": "86e2959c",
   "metadata": {},
   "outputs": [
    {
     "name": "stdout",
     "output_type": "stream",
     "text": [
      "Optimization terminated successfully.\n",
      "         Current function value: 0.622173\n",
      "         Iterations 5\n",
      "                           Logit Regression Results                           \n",
      "==============================================================================\n",
      "Dep. Variable:                      y   No. Observations:                  100\n",
      "Model:                          Logit   Df Residuals:                       97\n",
      "Method:                           MLE   Df Model:                            2\n",
      "Date:                Tue, 13 May 2025   Pseudo R-squ.:                 0.09823\n",
      "Time:                        22:32:00   Log-Likelihood:                -62.217\n",
      "converged:                       True   LL-Null:                       -68.994\n",
      "Covariance Type:            nonrobust   LLR p-value:                  0.001140\n",
      "==============================================================================\n",
      "                 coef    std err          z      P>|z|      [0.025      0.975]\n",
      "------------------------------------------------------------------------------\n",
      "const         -0.1252      0.215     -0.582      0.561      -0.547       0.297\n",
      "x1             0.6312      0.259      2.435      0.015       0.123       1.139\n",
      "x2            -0.5723      0.245     -2.331      0.020      -1.053      -0.091\n",
      "==============================================================================\n",
      "\n",
      "Intervalos de confianza para los coeficientes:\n",
      "[[-0.54701397  0.29652669]\n",
      " [ 0.12310821  1.13923426]\n",
      " [-1.0533913  -0.09111606]]\n"
     ]
    }
   ],
   "source": [
    "# Agregar una constante a la matriz de características\n",
    "X = sm.add_constant(X)\n",
    "\n",
    "# Ajustar el modelo de regresión logística\n",
    "model = sm.Logit(y, X)\n",
    "result = model.fit()\n",
    "\n",
    "# Mostrar el resumen del modelo\n",
    "print(result.summary())\n",
    "\n",
    "# Calcular y mostrar los intervalos de confianza\n",
    "conf_intervals = result.conf_int()\n",
    "print(\"\\nIntervalos de confianza para los coeficientes:\")\n",
    "print(conf_intervals)"
   ]
  }
 ],
 "metadata": {
  "kernelspec": {
   "display_name": "py310",
   "language": "python",
   "name": "python3"
  },
  "language_info": {
   "codemirror_mode": {
    "name": "ipython",
    "version": 3
   },
   "file_extension": ".py",
   "mimetype": "text/x-python",
   "name": "python",
   "nbconvert_exporter": "python",
   "pygments_lexer": "ipython3",
   "version": "3.10.16"
  }
 },
 "nbformat": 4,
 "nbformat_minor": 5
}
